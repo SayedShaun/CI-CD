{
 "cells": [
  {
   "cell_type": "code",
   "execution_count": 11,
   "metadata": {},
   "outputs": [
    {
     "data": {
      "image/png": "[encoded data removed]",
      "text/plain": [
       "<Figure size 640x480 with 1 Axes>"
      ]
     },
     "metadata": {},
     "output_type": "display_data"
    }
   ],
   "source": [
    "from sklearn.datasets import load_iris\n",
    "from sklearn.model_selection import train_test_split\n",
    "from sklearn.metrics import accuracy_score, precision_score, recall_score, f1_score, confusion_matrix\n",
    "import seaborn as sns\n",
    "import matplotlib.pyplot as plt\n",
    "import pandas as pd\n",
    "from sklearn.linear_model import LogisticRegression\n",
    "\n",
    "\n",
    "X, y = load_iris(return_X_y=True)\n",
    "X_train, X_test, y_train, y_test = train_test_split(X, y, test_size=0.2)\n",
    "model = LogisticRegression().fit(X_train, y_train)\n",
    "y_pred = model.predict(X_test)\n",
    "accuracy = accuracy_score(y_test, y_pred)\n",
    "precision = precision_score(y_test, y_pred, average='macro')\n",
    "recall = recall_score(y_test, y_pred, average='macro')\n",
    "f1 = f1_score(y_test, y_pred, average='macro')\n",
    "cm = confusion_matrix(y_test, y_pred)\n",
    "metrics_df = pd.DataFrame({'Accuracy': [accuracy], 'Precision': [precision], 'Recall': [recall], 'F1': [f1]})\n",
    "sns.heatmap(metrics_df, annot=True, cbar=False)\n",
    "plt.show()"
   ]
  },
  {
   "cell_type": "code",
   "execution_count": 12,
   "metadata": {},
   "outputs": [],
   "source": [
    "import pickle\n",
    "\n",
    "with open('iris_model.pkl', 'wb') as f:\n",
    "    pickle.dump(model, f)"
   ]
  },
  {
   "cell_type": "code",
   "execution_count": 14,
   "metadata": {},
   "outputs": [],
   "source": [
    "inputs=[\n",
    "    [5.1, 3.5, 1.4, 0.2],\n",
    "    [4.9, 3.0, 1.4, 0.2],\n",
    "    [4.7, 3.2, 1.3, 0.2],\n",
    "    [4.6, 3.1, 1.5, 0.2],\n",
    "    [5.0, 3.6, 1.4, 0.2],\n",
    "    [5.4, 3.9, 1.7, 0.4],\n",
    "    [4.6, 3.4, 1.4, 0.3],\n",
    "    [5.0, 3.4, 1.5, 0.2],\n",
    "    [4.4, 2.9, 1.4, 0.2],\n",
    "    [4.9, 3.1, 1.5, 0.1],\n",
    "    [5.4, 3.7, 1.5, 0.2],\n",
    "    [4.8, 3.4, 1.6, 0.2],\n",
    "    [4.8, 3.0, 1.4, 0.1],\n",
    "    [4.3, 3.0, 1.1, 0.1],\n",
    "    [5.8, 4.0, 1.2, 0.2],\n",
    "    [5.7, 4.4, 1.5, 0.4],\n",
    "    [5.4, 3.9, 1.3, 0.4],\n",
    "    [5.1, 3.5, 1.4, 0.3],\n",
    "    [5.7, 3.8, 1.7, 0.3],\n",
    "    [5.1, 3.8, 1.5, 0.3],\n",
    "    [5.4, 3.4, 1.7, 0.2],\n",
    "    [5.1, 3.7, 1.5, 0.4],\n",
    "    [4.6, 3.6, 1.0, 0.2],\n",
    "    [5.1, 3.3, 1.7, 0.5],\n",
    "    [4.8, 3.4, 1.9, 0.2],\n",
    "    [5.0, 3.0, 1.6, 0.2],\n",
    "    [5.0, 3.4, 1.6, 0.4],\n",
    "    [5.2, 3.5, 1.5, 0.2],\n",
    "    [5.2, 3.4, 1.4, 0.2],\n",
    "    [4.7, 3.2, 1.6, 0.2],\n",
    "    [4.8, 3.1, 1.6, 0.2],\n",
    "    [5.4, 3.4, 1.5, 0.4],\n",
    "    [5.2, 4.1, 1.5, 0.1],\n",
    "    [5.5, 4.2, 1.4, 0.2],\n",
    "    [4.9, 3.1, 1.5, 0.2],\n",
    "    [5.0, 3.2, 1.2, 0.2],\n",
    "    [5.5, 3.5, 1.3, 0.2],\n",
    "    [4.9, 3.6, 1.4, 0.1],\n",
    "    [4.4, 3.0, 1.3, 0.2],\n",
    "    [5.1, 3.4, 1.5, 0.2],\n",
    "    [5.0, 3.5, 1.3, 0.3],\n",
    "    [4.5, 2.3, 1.3, 0.3],\n",
    "    [4.4, 3.2, 1.3, 0.2],\n",
    "    [5.0, 3.5, 1.6, 0.6],\n",
    "    [5.1, 3.8, 1.9, 0.4],\n",
    "    [4.8, 3.0, 1.4, 0.3],\n",
    "    [5.1, 3.8, 1.6, 0.2],\n",
    "    [4.6, 3.2, 1.4, 0.2],\n",
    "    [5.3, 3.7, 1.5, 0.2],\n",
    "    [5.0, 3.3, 1.4, 0.2],\n",
    "    [7.0, 3.2, 4.7, 1.4],\n",
    "    [6.4, 3.2, 4.5, 1.5],\n",
    "    [6.9, 3.1, 4.9, 1.5],\n",
    "    [5.5, 2.3, 4.0, 1.3],\n",
    "    [6.5, 2.8, 4.6, 1.5],\n",
    "    [5.7, 2.8, 4.5, 1.3],\n",
    "    [6.3, 3.3, 4.7, 1.6],\n",
    "    [4.9, 2.4, 3.3, 1.0],\n",
    "    [6.6, 2.9, 4.6, 1.3],\n",
    "    [5.2, 2.7, 3.9, 1.4],\n",
    "    [5.0, 2.0, 3.5, 1.0],\n",
    "    [5.9, 3.0, 4.2, 1.5],\n",
    "    [6.0, 2.2, 4.0, 1.0],\n",
    "    [6.1, 2.9, 4.7, 1.4],\n",
    "    [5.6, 2.9, 3.6, 1.3],\n",
    "    [6.7, 3.1, 4.4, 1.4],\n",
    "    [5.6, 3.0, 4.5, 1.5],\n",
    "    [5.8, 2.7, 4.1, 1.0],\n",
    "    [6.2, 2.2, 4.5, 1.5],\n",
    "    [5.6, 2.5, 3.9, 1.1],\n",
    "    [5.9, 3.2, 4.8, 1.8],\n",
    "    [6.1, 2.8, 4.0, 1.3],\n",
    "    [6.3, 2.5, 4.9, 1.5],\n",
    "    [6.1, 2.8, 4.7, 1.2],\n",
    "    [6.4, 2.9, 4.3, 1.3]\n",
    "  ]\n"
   ]
  },
  {
   "cell_type": "code",
   "execution_count": 22,
   "metadata": {},
   "outputs": [
    {
     "data": {
      "text/plain": [
       "array([0, 0, 0, 0, 0, 0, 0, 0, 0, 0, 0, 0, 0, 0, 0, 0, 0, 0, 0, 0, 0, 0,\n",
       "       0, 0, 0, 0, 0, 0, 0, 0, 0, 0, 0, 0, 0, 0, 0, 0, 0, 0, 0, 0, 0, 0,\n",
       "       0, 0, 0, 0, 0, 0, 1, 1, 1, 1, 1, 1, 1, 1, 1, 1, 1, 1, 1, 1, 1, 1,\n",
       "       1, 1, 1, 1, 2, 1, 1, 1, 1])"
      ]
     },
     "execution_count": 22,
     "metadata": {},
     "output_type": "execute_result"
    }
   ],
   "source": [
    "model.predict(inputs)"
   ]
  },
  {
   "cell_type": "code",
   "execution_count": 26,
   "metadata": {},
   "outputs": [
    {
     "data": {
      "text/plain": [
       "array([[5.1, 3.5, 1.4, 0.2],\n",
       "       [4.9, 3. , 1.4, 0.2],\n",
       "       [4.7, 3.2, 1.3, 0.2],\n",
       "       [4.6, 3.1, 1.5, 0.2],\n",
       "       [5. , 3.6, 1.4, 0.2],\n",
       "       [5.4, 3.9, 1.7, 0.4],\n",
       "       [4.6, 3.4, 1.4, 0.3],\n",
       "       [5. , 3.4, 1.5, 0.2],\n",
       "       [4.4, 2.9, 1.4, 0.2],\n",
       "       [4.9, 3.1, 1.5, 0.1],\n",
       "       [5.4, 3.7, 1.5, 0.2],\n",
       "       [4.8, 3.4, 1.6, 0.2],\n",
       "       [4.8, 3. , 1.4, 0.1],\n",
       "       [4.3, 3. , 1.1, 0.1],\n",
       "       [5.8, 4. , 1.2, 0.2],\n",
       "       [5.7, 4.4, 1.5, 0.4],\n",
       "       [5.4, 3.9, 1.3, 0.4],\n",
       "       [5.1, 3.5, 1.4, 0.3],\n",
       "       [5.7, 3.8, 1.7, 0.3],\n",
       "       [5.1, 3.8, 1.5, 0.3],\n",
       "       [5.4, 3.4, 1.7, 0.2],\n",
       "       [5.1, 3.7, 1.5, 0.4],\n",
       "       [4.6, 3.6, 1. , 0.2],\n",
       "       [5.1, 3.3, 1.7, 0.5],\n",
       "       [4.8, 3.4, 1.9, 0.2],\n",
       "       [5. , 3. , 1.6, 0.2],\n",
       "       [5. , 3.4, 1.6, 0.4],\n",
       "       [5.2, 3.5, 1.5, 0.2],\n",
       "       [5.2, 3.4, 1.4, 0.2],\n",
       "       [4.7, 3.2, 1.6, 0.2],\n",
       "       [4.8, 3.1, 1.6, 0.2],\n",
       "       [5.4, 3.4, 1.5, 0.4],\n",
       "       [5.2, 4.1, 1.5, 0.1],\n",
       "       [5.5, 4.2, 1.4, 0.2],\n",
       "       [4.9, 3.1, 1.5, 0.2],\n",
       "       [5. , 3.2, 1.2, 0.2],\n",
       "       [5.5, 3.5, 1.3, 0.2],\n",
       "       [4.9, 3.6, 1.4, 0.1],\n",
       "       [4.4, 3. , 1.3, 0.2],\n",
       "       [5.1, 3.4, 1.5, 0.2],\n",
       "       [5. , 3.5, 1.3, 0.3],\n",
       "       [4.5, 2.3, 1.3, 0.3],\n",
       "       [4.4, 3.2, 1.3, 0.2],\n",
       "       [5. , 3.5, 1.6, 0.6],\n",
       "       [5.1, 3.8, 1.9, 0.4],\n",
       "       [4.8, 3. , 1.4, 0.3],\n",
       "       [5.1, 3.8, 1.6, 0.2],\n",
       "       [4.6, 3.2, 1.4, 0.2],\n",
       "       [5.3, 3.7, 1.5, 0.2],\n",
       "       [5. , 3.3, 1.4, 0.2],\n",
       "       [7. , 3.2, 4.7, 1.4],\n",
       "       [6.4, 3.2, 4.5, 1.5],\n",
       "       [6.9, 3.1, 4.9, 1.5],\n",
       "       [5.5, 2.3, 4. , 1.3],\n",
       "       [6.5, 2.8, 4.6, 1.5],\n",
       "       [5.7, 2.8, 4.5, 1.3],\n",
       "       [6.3, 3.3, 4.7, 1.6],\n",
       "       [4.9, 2.4, 3.3, 1. ],\n",
       "       [6.6, 2.9, 4.6, 1.3],\n",
       "       [5.2, 2.7, 3.9, 1.4],\n",
       "       [5. , 2. , 3.5, 1. ],\n",
       "       [5.9, 3. , 4.2, 1.5],\n",
       "       [6. , 2.2, 4. , 1. ],\n",
       "       [6.1, 2.9, 4.7, 1.4],\n",
       "       [5.6, 2.9, 3.6, 1.3],\n",
       "       [6.7, 3.1, 4.4, 1.4],\n",
       "       [5.6, 3. , 4.5, 1.5],\n",
       "       [5.8, 2.7, 4.1, 1. ],\n",
       "       [6.2, 2.2, 4.5, 1.5],\n",
       "       [5.6, 2.5, 3.9, 1.1],\n",
       "       [5.9, 3.2, 4.8, 1.8],\n",
       "       [6.1, 2.8, 4. , 1.3],\n",
       "       [6.3, 2.5, 4.9, 1.5],\n",
       "       [6.1, 2.8, 4.7, 1.2],\n",
       "       [6.4, 2.9, 4.3, 1.3]])"
      ]
     },
     "execution_count": 26,
     "metadata": {},
     "output_type": "execute_result"
    }
   ],
   "source": [
    "import numpy as np\n",
    "\n",
    "np.array(inputs)"
   ]
  }
 ],
 "metadata": {
  "kernelspec": {
   "display_name": "ml",
   "language": "python",
   "name": "python3"
  },
  "language_info": {
   "codemirror_mode": {
    "name": "ipython",
    "version": 3
   },
   "file_extension": ".py",
   "mimetype": "text/x-python",
   "name": "python",
   "nbconvert_exporter": "python",
   "pygments_lexer": "ipython3",
   "version": "3.10.14"
  }
 },
 "nbformat": 4,
 "nbformat_minor": 2
}
