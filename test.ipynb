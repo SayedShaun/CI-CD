{
 "cells": [
  {
   "cell_type": "code",
   "execution_count": 2,
   "metadata": {},
   "outputs": [
    {
     "name": "stdout",
     "output_type": "stream",
     "text": [
      "{'prediction': [0, 2, 2, 1, 2, 1, 0, 1, 2, 1, 2]}\n"
     ]
    }
   ],
   "source": [
    "import requests\n",
    "\n",
    "url = 'http://localhost:8000/predict'\n",
    "data = {\n",
    "    'inputs': [\n",
    "        [5.1, 3.5, 1.4, 0.2],\n",
    "        [6.2, 3.4, 5.4, 2.3],\n",
    "        [7.6, 3.0, 6.6, 2.1],\n",
    "        [4.9, 2.5, 4.5, 1.7],\n",
    "        [6.9, 3.1, 5.1, 2.3],\n",
    "        [6.6, 2.9, 4.6, 1.3],\n",
    "        [5.2, 3.5, 1.5, 0.2],\n",
    "        [6.4, 3.2, 4.5, 1.5],\n",
    "        [7.7, 3.8, 6.7, 2.2],\n",
    "        [6.3, 2.5, 4.9, 1.5],\n",
    "        [6.7, 3.0, 5.0, 1.7],\n",
    "    ]\n",
    "}\n",
    "response = requests.post(url, json=data)\n",
    "print(response.json())"
   ]
  }
 ],
 "metadata": {
  "kernelspec": {
   "display_name": "ml",
   "language": "python",
   "name": "python3"
  },
  "language_info": {
   "codemirror_mode": {
    "name": "ipython",
    "version": 3
   },
   "file_extension": ".py",
   "mimetype": "text/x-python",
   "name": "python",
   "nbconvert_exporter": "python",
   "pygments_lexer": "ipython3",
   "version": "3.10.14"
  }
 },
 "nbformat": 4,
 "nbformat_minor": 2
}
